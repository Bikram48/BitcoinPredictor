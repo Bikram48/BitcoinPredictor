{
 "cells": [
  {
   "cell_type": "code",
   "execution_count": 1,
   "metadata": {},
   "outputs": [],
   "source": [
    "import pandas as pd"
   ]
  },
  {
   "cell_type": "code",
   "execution_count": 3,
   "metadata": {},
   "outputs": [
    {
     "data": {
      "text/html": [
       "<div>\n",
       "<style scoped>\n",
       "    .dataframe tbody tr th:only-of-type {\n",
       "        vertical-align: middle;\n",
       "    }\n",
       "\n",
       "    .dataframe tbody tr th {\n",
       "        vertical-align: top;\n",
       "    }\n",
       "\n",
       "    .dataframe thead th {\n",
       "        text-align: right;\n",
       "    }\n",
       "</style>\n",
       "<table border=\"1\" class=\"dataframe\">\n",
       "  <thead>\n",
       "    <tr style=\"text-align: right;\">\n",
       "      <th></th>\n",
       "      <th>unix</th>\n",
       "      <th>date</th>\n",
       "      <th>symbol</th>\n",
       "      <th>open</th>\n",
       "      <th>high</th>\n",
       "      <th>low</th>\n",
       "      <th>close</th>\n",
       "      <th>Volume BTC</th>\n",
       "      <th>Volume USD</th>\n",
       "    </tr>\n",
       "  </thead>\n",
       "  <tbody>\n",
       "    <tr>\n",
       "      <th>0</th>\n",
       "      <td>1646106180</td>\n",
       "      <td>2022-03-01 03:43:00</td>\n",
       "      <td>BTC/USD</td>\n",
       "      <td>43046.58</td>\n",
       "      <td>43046.58</td>\n",
       "      <td>43046.58</td>\n",
       "      <td>43046.58</td>\n",
       "      <td>0.000000</td>\n",
       "      <td>0.000000</td>\n",
       "    </tr>\n",
       "    <tr>\n",
       "      <th>1</th>\n",
       "      <td>1646106060</td>\n",
       "      <td>2022-03-01 03:41:00</td>\n",
       "      <td>BTC/USD</td>\n",
       "      <td>43018.23</td>\n",
       "      <td>43046.59</td>\n",
       "      <td>43018.23</td>\n",
       "      <td>43046.58</td>\n",
       "      <td>0.142977</td>\n",
       "      <td>6154.673021</td>\n",
       "    </tr>\n",
       "    <tr>\n",
       "      <th>2</th>\n",
       "      <td>1646106000</td>\n",
       "      <td>2022-03-01 03:40:00</td>\n",
       "      <td>BTC/USD</td>\n",
       "      <td>43022.24</td>\n",
       "      <td>43022.24</td>\n",
       "      <td>43016.03</td>\n",
       "      <td>43016.03</td>\n",
       "      <td>0.009230</td>\n",
       "      <td>397.037957</td>\n",
       "    </tr>\n",
       "    <tr>\n",
       "      <th>3</th>\n",
       "      <td>1646105940</td>\n",
       "      <td>2022-03-01 03:39:00</td>\n",
       "      <td>BTC/USD</td>\n",
       "      <td>43035.16</td>\n",
       "      <td>43035.16</td>\n",
       "      <td>42999.44</td>\n",
       "      <td>42999.44</td>\n",
       "      <td>0.820950</td>\n",
       "      <td>35300.390268</td>\n",
       "    </tr>\n",
       "    <tr>\n",
       "      <th>4</th>\n",
       "      <td>1646105880</td>\n",
       "      <td>2022-03-01 03:38:00</td>\n",
       "      <td>BTC/USD</td>\n",
       "      <td>43077.82</td>\n",
       "      <td>43077.82</td>\n",
       "      <td>43049.46</td>\n",
       "      <td>43049.46</td>\n",
       "      <td>0.022210</td>\n",
       "      <td>956.143143</td>\n",
       "    </tr>\n",
       "  </tbody>\n",
       "</table>\n",
       "</div>"
      ],
      "text/plain": [
       "         unix                 date   symbol      open      high       low  \\\n",
       "0  1646106180  2022-03-01 03:43:00  BTC/USD  43046.58  43046.58  43046.58   \n",
       "1  1646106060  2022-03-01 03:41:00  BTC/USD  43018.23  43046.59  43018.23   \n",
       "2  1646106000  2022-03-01 03:40:00  BTC/USD  43022.24  43022.24  43016.03   \n",
       "3  1646105940  2022-03-01 03:39:00  BTC/USD  43035.16  43035.16  42999.44   \n",
       "4  1646105880  2022-03-01 03:38:00  BTC/USD  43077.82  43077.82  43049.46   \n",
       "\n",
       "      close  Volume BTC    Volume USD  \n",
       "0  43046.58    0.000000      0.000000  \n",
       "1  43046.58    0.142977   6154.673021  \n",
       "2  43016.03    0.009230    397.037957  \n",
       "3  42999.44    0.820950  35300.390268  \n",
       "4  43049.46    0.022210    956.143143  "
      ]
     },
     "execution_count": 3,
     "metadata": {},
     "output_type": "execute_result"
    }
   ],
   "source": [
    "df = pd.read_csv(\"BTC-2021min.csv\")\n",
    "df.head()"
   ]
  },
  {
   "cell_type": "code",
   "execution_count": null,
   "metadata": {},
   "outputs": [],
   "source": []
  }
 ],
 "metadata": {
  "kernelspec": {
   "display_name": "Python 3 (ipykernel)",
   "language": "python",
   "name": "python3"
  },
  "language_info": {
   "codemirror_mode": {
    "name": "ipython",
    "version": 3
   },
   "file_extension": ".py",
   "mimetype": "text/x-python",
   "name": "python",
   "nbconvert_exporter": "python",
   "pygments_lexer": "ipython3",
   "version": "3.11.4"
  },
  "vscode": {
   "interpreter": {
    "hash": "6dca906a3b11bd6ac18579ad6d64d723fc6f634d9851643d65741a9a1c7198a3"
   }
  }
 },
 "nbformat": 4,
 "nbformat_minor": 2
}
